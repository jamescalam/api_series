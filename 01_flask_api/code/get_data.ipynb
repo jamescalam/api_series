{
 "cells": [
  {
   "cell_type": "code",
   "execution_count": 2,
   "source": [
    "import requests\n",
    "\n",
    "res = requests.get('https://gist.githubusercontent.com/jamescalam/4d5d9e81794120e5be8cf0dec077dc70/raw/55c756f3fcbc62546ebd38e4adc6132e00bc47f6/locations.csv')\n",
    "with open('../data/locations.csv', 'w') as fp:\n",
    "    fp.write(res.text)\n",
    "\n",
    "res = requests.get('https://gist.githubusercontent.com/jamescalam/1aaf18fd07d16b6ca3ff83234a201806/raw/7aa6046e93271caf067260f7e3b108d30d972746/users.csv')\n",
    "with open('../data/users.csv', 'w') as fp:\n",
    "    fp.write(res.text)"
   ],
   "outputs": [],
   "metadata": {}
  }
 ],
 "metadata": {
  "orig_nbformat": 4,
  "language_info": {
   "name": "python",
   "version": "3.8.8",
   "mimetype": "text/x-python",
   "codemirror_mode": {
    "name": "ipython",
    "version": 3
   },
   "pygments_lexer": "ipython3",
   "nbconvert_exporter": "python",
   "file_extension": ".py"
  },
  "kernelspec": {
   "name": "python3",
   "display_name": "Python 3.8.8 64-bit ('ml': conda)"
  },
  "interpreter": {
   "hash": "a683edd788238e5c64f9fa2e4bdd4387776bc5c6f4f0a84da0685f9a25e421d6"
  }
 },
 "nbformat": 4,
 "nbformat_minor": 2
}