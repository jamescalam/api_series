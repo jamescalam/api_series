{
 "cells": [
  {
   "cell_type": "markdown",
   "source": [
    "# PokéAPI"
   ],
   "metadata": {}
  },
  {
   "cell_type": "code",
   "execution_count": 1,
   "source": [
    "import requests"
   ],
   "outputs": [],
   "metadata": {}
  },
  {
   "cell_type": "code",
   "execution_count": 2,
   "source": [
    "res = requests.get('https://pokeapi.co/api/v2/pokemon/charizard')\n",
    "res"
   ],
   "outputs": [
    {
     "output_type": "execute_result",
     "data": {
      "text/plain": [
       "<Response [200]>"
      ]
     },
     "metadata": {},
     "execution_count": 2
    }
   ],
   "metadata": {}
  },
  {
   "cell_type": "code",
   "execution_count": 3,
   "source": [
    "for ability in res.json()['abilities']:\n",
    "    print(ability['ability']['name'])"
   ],
   "outputs": [
    {
     "output_type": "stream",
     "name": "stdout",
     "text": [
      "blaze\n",
      "solar-power\n"
     ]
    }
   ],
   "metadata": {}
  },
  {
   "cell_type": "markdown",
   "source": [
    "---\n",
    "\n",
    "# Google Maps Geocoding API"
   ],
   "metadata": {}
  },
  {
   "cell_type": "code",
   "execution_count": 4,
   "source": [
    "url = 'https://maps.googleapis.com/maps/api/geocode'\n",
    "address = 'piazza+del+corso'\n",
    "key = 'YOUR_KEY'"
   ],
   "outputs": [],
   "metadata": {}
  },
  {
   "cell_type": "code",
   "execution_count": 5,
   "source": [
    "res = requests.get(f\"{url}/json?address={address}&key={key}\")\n",
    "res"
   ],
   "outputs": [
    {
     "output_type": "execute_result",
     "data": {
      "text/plain": [
       "<Response [200]>"
      ]
     },
     "metadata": {},
     "execution_count": 5
    }
   ],
   "metadata": {}
  },
  {
   "cell_type": "code",
   "execution_count": 6,
   "source": [
    "res.json()"
   ],
   "outputs": [
    {
     "output_type": "execute_result",
     "data": {
      "text/plain": [
       "{'results': [{'address_components': [{'long_name': '9',\n",
       "     'short_name': '9',\n",
       "     'types': ['street_number']},\n",
       "    {'long_name': 'Via Papa Giovanni XXIII',\n",
       "     'short_name': 'Via Papa Giovanni XXIII',\n",
       "     'types': ['route']},\n",
       "    {'long_name': 'Nocera Inferiore',\n",
       "     'short_name': 'Nocera Inferiore',\n",
       "     'types': ['locality', 'political']},\n",
       "    {'long_name': 'Nocera inferiore',\n",
       "     'short_name': 'Nocera inferiore',\n",
       "     'types': ['administrative_area_level_3', 'political']},\n",
       "    {'long_name': 'Provincia di Salerno',\n",
       "     'short_name': 'SA',\n",
       "     'types': ['administrative_area_level_2', 'political']},\n",
       "    {'long_name': 'Campania',\n",
       "     'short_name': 'Campania',\n",
       "     'types': ['administrative_area_level_1', 'political']},\n",
       "    {'long_name': 'Italy',\n",
       "     'short_name': 'IT',\n",
       "     'types': ['country', 'political']},\n",
       "    {'long_name': '84014', 'short_name': '84014', 'types': ['postal_code']}],\n",
       "   'formatted_address': 'Via Papa Giovanni XXIII, 9, 84014 Nocera Inferiore SA, Italy',\n",
       "   'geometry': {'location': {'lat': 40.7429001, 'lng': 14.6382744},\n",
       "    'location_type': 'ROOFTOP',\n",
       "    'viewport': {'northeast': {'lat': 40.7442490802915,\n",
       "      'lng': 14.6396233802915},\n",
       "     'southwest': {'lat': 40.7415511197085, 'lng': 14.6369254197085}}},\n",
       "   'place_id': 'ChIJ53wS30q_OxMR7C43RB13il4',\n",
       "   'plus_code': {'compound_code': 'PJVQ+58 Nocera Inferiore, SA, Italy',\n",
       "    'global_code': '8FGPPJVQ+58'},\n",
       "   'types': ['establishment', 'point_of_interest', 'tourist_attraction']}],\n",
       " 'status': 'OK'}"
      ]
     },
     "metadata": {},
     "execution_count": 6
    }
   ],
   "metadata": {}
  },
  {
   "cell_type": "code",
   "execution_count": 8,
   "source": [
    "res.json()['results'][0]['geometry']['location']"
   ],
   "outputs": [
    {
     "output_type": "execute_result",
     "data": {
      "text/plain": [
       "{'lat': 40.7429001, 'lng': 14.6382744}"
      ]
     },
     "metadata": {},
     "execution_count": 8
    }
   ],
   "metadata": {}
  },
  {
   "cell_type": "markdown",
   "source": [
    "---\n",
    "\n",
    "# GitHub API"
   ],
   "metadata": {}
  },
  {
   "cell_type": "code",
   "execution_count": 10,
   "source": [
    "token = 'YOUR_TOKEN'"
   ],
   "outputs": [],
   "metadata": {}
  },
  {
   "cell_type": "code",
   "execution_count": null,
   "source": [
    "requests.post('<some_GitHub_API_address>',\n",
    "              headers={'Authorization': f'token {token}'})"
   ],
   "outputs": [],
   "metadata": {}
  },
  {
   "cell_type": "code",
   "execution_count": 14,
   "source": [
    "import json\n",
    "\n",
    "payload = {\n",
    "    'name': 'api_test',\n",
    "    'public': 'true'\n",
    "}\n",
    "\n",
    "res = requests.post('https://api.github.com/user/repos',\n",
    "                    headers={'Authorization': f'token {token}'},\n",
    "                    data=json.dumps(payload))\n",
    "res"
   ],
   "outputs": [
    {
     "output_type": "execute_result",
     "data": {
      "text/plain": [
       "<Response [201]>"
      ]
     },
     "metadata": {},
     "execution_count": 14
    }
   ],
   "metadata": {}
  }
 ],
 "metadata": {
  "orig_nbformat": 4,
  "language_info": {
   "name": "python",
   "version": "3.8.8",
   "mimetype": "text/x-python",
   "codemirror_mode": {
    "name": "ipython",
    "version": 3
   },
   "pygments_lexer": "ipython3",
   "nbconvert_exporter": "python",
   "file_extension": ".py"
  },
  "kernelspec": {
   "name": "python3",
   "display_name": "Python 3.8.8 64-bit ('ml': conda)"
  },
  "interpreter": {
   "hash": "a683edd788238e5c64f9fa2e4bdd4387776bc5c6f4f0a84da0685f9a25e421d6"
  }
 },
 "nbformat": 4,
 "nbformat_minor": 2
}