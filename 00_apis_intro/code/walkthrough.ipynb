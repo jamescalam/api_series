{
 "cells": [
  {
   "cell_type": "markdown",
   "source": [
    "[https://pokeapi.co/api/v2/pokemon/charizard](https://pokeapi.co/api/v2/pokemon/charizard)\n",
    "\n",
    "piazza del colosseo"
   ],
   "metadata": {}
  },
  {
   "cell_type": "code",
   "execution_count": 1,
   "source": [
    "import requests"
   ],
   "outputs": [],
   "metadata": {}
  },
  {
   "cell_type": "code",
   "execution_count": 2,
   "source": [
    "res = requests.get('https://pokeapi.co/api/v2/pokemon/charizard')"
   ],
   "outputs": [],
   "metadata": {}
  },
  {
   "cell_type": "code",
   "execution_count": 3,
   "source": [
    "res"
   ],
   "outputs": [
    {
     "output_type": "execute_result",
     "data": {
      "text/plain": [
       "<Response [200]>"
      ]
     },
     "metadata": {},
     "execution_count": 3
    }
   ],
   "metadata": {}
  },
  {
   "cell_type": "code",
   "execution_count": 8,
   "source": [
    "res.json()['abilities'][0]['ability']['url']"
   ],
   "outputs": [
    {
     "output_type": "execute_result",
     "data": {
      "text/plain": [
       "'https://pokeapi.co/api/v2/ability/66/'"
      ]
     },
     "metadata": {},
     "execution_count": 8
    }
   ],
   "metadata": {}
  },
  {
   "cell_type": "markdown",
   "source": [
    "---"
   ],
   "metadata": {}
  },
  {
   "cell_type": "code",
   "execution_count": 19,
   "source": [
    "API_KEY = 'YOUR_KEY'\n",
    "API = 'https://maps.googleapis.com/maps/api/geocode'"
   ],
   "outputs": [],
   "metadata": {}
  },
  {
   "cell_type": "code",
   "execution_count": 20,
   "source": [
    "res = requests.get(f\"{API}/json?address=piazza+del+colesseo&key={API_KEY}\")"
   ],
   "outputs": [],
   "metadata": {}
  },
  {
   "cell_type": "code",
   "execution_count": 31,
   "source": [
    "coords = res.json()['results'][0]['geometry']['location']"
   ],
   "outputs": [],
   "metadata": {}
  },
  {
   "cell_type": "code",
   "execution_count": 33,
   "source": [
    "coords['lng']"
   ],
   "outputs": [
    {
     "output_type": "execute_result",
     "data": {
      "text/plain": [
       "12.4930388"
      ]
     },
     "metadata": {},
     "execution_count": 33
    }
   ],
   "metadata": {}
  },
  {
   "cell_type": "markdown",
   "source": [
    "---"
   ],
   "metadata": {}
  },
  {
   "cell_type": "code",
   "execution_count": 34,
   "source": [
    "GITHUB_KEY = 'YOUR_KEY'"
   ],
   "outputs": [],
   "metadata": {}
  },
  {
   "cell_type": "code",
   "execution_count": 35,
   "source": [
    "import json"
   ],
   "outputs": [],
   "metadata": {}
  },
  {
   "cell_type": "code",
   "execution_count": 40,
   "source": [
    "PAYLOAD = {\n",
    "    'name': 'api_test2',\n",
    "    'public': 'true'\n",
    "}"
   ],
   "outputs": [],
   "metadata": {}
  },
  {
   "cell_type": "code",
   "execution_count": 41,
   "source": [
    "res = requests.post(\n",
    "    'https://api.github.com/user/repos',\n",
    "    headers={'Authorization': f'token {GITHUB_KEY}'},\n",
    "    data=json.dumps(PAYLOAD)\n",
    ")"
   ],
   "outputs": [],
   "metadata": {}
  },
  {
   "cell_type": "code",
   "execution_count": 42,
   "source": [
    "res.json()"
   ],
   "outputs": [
    {
     "output_type": "execute_result",
     "data": {
      "text/plain": [
       "{'id': 401621479,\n",
       " 'node_id': 'MDEwOlJlcG9zaXRvcnk0MDE2MjE0Nzk=',\n",
       " 'name': 'api_test2',\n",
       " 'full_name': 'jamescalam/api_test2',\n",
       " 'private': False,\n",
       " 'owner': {'login': 'jamescalam',\n",
       "  'id': 35938317,\n",
       "  'node_id': 'MDQ6VXNlcjM1OTM4MzE3',\n",
       "  'avatar_url': 'https://avatars.githubusercontent.com/u/35938317?v=4',\n",
       "  'gravatar_id': '',\n",
       "  'url': 'https://api.github.com/users/jamescalam',\n",
       "  'html_url': 'https://github.com/jamescalam',\n",
       "  'followers_url': 'https://api.github.com/users/jamescalam/followers',\n",
       "  'following_url': 'https://api.github.com/users/jamescalam/following{/other_user}',\n",
       "  'gists_url': 'https://api.github.com/users/jamescalam/gists{/gist_id}',\n",
       "  'starred_url': 'https://api.github.com/users/jamescalam/starred{/owner}{/repo}',\n",
       "  'subscriptions_url': 'https://api.github.com/users/jamescalam/subscriptions',\n",
       "  'organizations_url': 'https://api.github.com/users/jamescalam/orgs',\n",
       "  'repos_url': 'https://api.github.com/users/jamescalam/repos',\n",
       "  'events_url': 'https://api.github.com/users/jamescalam/events{/privacy}',\n",
       "  'received_events_url': 'https://api.github.com/users/jamescalam/received_events',\n",
       "  'type': 'User',\n",
       "  'site_admin': False},\n",
       " 'html_url': 'https://github.com/jamescalam/api_test2',\n",
       " 'description': None,\n",
       " 'fork': False,\n",
       " 'url': 'https://api.github.com/repos/jamescalam/api_test2',\n",
       " 'forks_url': 'https://api.github.com/repos/jamescalam/api_test2/forks',\n",
       " 'keys_url': 'https://api.github.com/repos/jamescalam/api_test2/keys{/key_id}',\n",
       " 'collaborators_url': 'https://api.github.com/repos/jamescalam/api_test2/collaborators{/collaborator}',\n",
       " 'teams_url': 'https://api.github.com/repos/jamescalam/api_test2/teams',\n",
       " 'hooks_url': 'https://api.github.com/repos/jamescalam/api_test2/hooks',\n",
       " 'issue_events_url': 'https://api.github.com/repos/jamescalam/api_test2/issues/events{/number}',\n",
       " 'events_url': 'https://api.github.com/repos/jamescalam/api_test2/events',\n",
       " 'assignees_url': 'https://api.github.com/repos/jamescalam/api_test2/assignees{/user}',\n",
       " 'branches_url': 'https://api.github.com/repos/jamescalam/api_test2/branches{/branch}',\n",
       " 'tags_url': 'https://api.github.com/repos/jamescalam/api_test2/tags',\n",
       " 'blobs_url': 'https://api.github.com/repos/jamescalam/api_test2/git/blobs{/sha}',\n",
       " 'git_tags_url': 'https://api.github.com/repos/jamescalam/api_test2/git/tags{/sha}',\n",
       " 'git_refs_url': 'https://api.github.com/repos/jamescalam/api_test2/git/refs{/sha}',\n",
       " 'trees_url': 'https://api.github.com/repos/jamescalam/api_test2/git/trees{/sha}',\n",
       " 'statuses_url': 'https://api.github.com/repos/jamescalam/api_test2/statuses/{sha}',\n",
       " 'languages_url': 'https://api.github.com/repos/jamescalam/api_test2/languages',\n",
       " 'stargazers_url': 'https://api.github.com/repos/jamescalam/api_test2/stargazers',\n",
       " 'contributors_url': 'https://api.github.com/repos/jamescalam/api_test2/contributors',\n",
       " 'subscribers_url': 'https://api.github.com/repos/jamescalam/api_test2/subscribers',\n",
       " 'subscription_url': 'https://api.github.com/repos/jamescalam/api_test2/subscription',\n",
       " 'commits_url': 'https://api.github.com/repos/jamescalam/api_test2/commits{/sha}',\n",
       " 'git_commits_url': 'https://api.github.com/repos/jamescalam/api_test2/git/commits{/sha}',\n",
       " 'comments_url': 'https://api.github.com/repos/jamescalam/api_test2/comments{/number}',\n",
       " 'issue_comment_url': 'https://api.github.com/repos/jamescalam/api_test2/issues/comments{/number}',\n",
       " 'contents_url': 'https://api.github.com/repos/jamescalam/api_test2/contents/{+path}',\n",
       " 'compare_url': 'https://api.github.com/repos/jamescalam/api_test2/compare/{base}...{head}',\n",
       " 'merges_url': 'https://api.github.com/repos/jamescalam/api_test2/merges',\n",
       " 'archive_url': 'https://api.github.com/repos/jamescalam/api_test2/{archive_format}{/ref}',\n",
       " 'downloads_url': 'https://api.github.com/repos/jamescalam/api_test2/downloads',\n",
       " 'issues_url': 'https://api.github.com/repos/jamescalam/api_test2/issues{/number}',\n",
       " 'pulls_url': 'https://api.github.com/repos/jamescalam/api_test2/pulls{/number}',\n",
       " 'milestones_url': 'https://api.github.com/repos/jamescalam/api_test2/milestones{/number}',\n",
       " 'notifications_url': 'https://api.github.com/repos/jamescalam/api_test2/notifications{?since,all,participating}',\n",
       " 'labels_url': 'https://api.github.com/repos/jamescalam/api_test2/labels{/name}',\n",
       " 'releases_url': 'https://api.github.com/repos/jamescalam/api_test2/releases{/id}',\n",
       " 'deployments_url': 'https://api.github.com/repos/jamescalam/api_test2/deployments',\n",
       " 'created_at': '2021-08-31T08:02:40Z',\n",
       " 'updated_at': '2021-08-31T08:02:40Z',\n",
       " 'pushed_at': '2021-08-31T08:02:41Z',\n",
       " 'git_url': 'git://github.com/jamescalam/api_test2.git',\n",
       " 'ssh_url': 'git@github.com:jamescalam/api_test2.git',\n",
       " 'clone_url': 'https://github.com/jamescalam/api_test2.git',\n",
       " 'svn_url': 'https://github.com/jamescalam/api_test2',\n",
       " 'homepage': None,\n",
       " 'size': 0,\n",
       " 'stargazers_count': 0,\n",
       " 'watchers_count': 0,\n",
       " 'language': None,\n",
       " 'has_issues': True,\n",
       " 'has_projects': True,\n",
       " 'has_downloads': True,\n",
       " 'has_wiki': True,\n",
       " 'has_pages': False,\n",
       " 'forks_count': 0,\n",
       " 'mirror_url': None,\n",
       " 'archived': False,\n",
       " 'disabled': False,\n",
       " 'open_issues_count': 0,\n",
       " 'license': None,\n",
       " 'forks': 0,\n",
       " 'open_issues': 0,\n",
       " 'watchers': 0,\n",
       " 'default_branch': 'main',\n",
       " 'permissions': {'admin': True,\n",
       "  'maintain': True,\n",
       "  'push': True,\n",
       "  'triage': True,\n",
       "  'pull': True},\n",
       " 'allow_squash_merge': True,\n",
       " 'allow_merge_commit': True,\n",
       " 'allow_rebase_merge': True,\n",
       " 'allow_auto_merge': False,\n",
       " 'delete_branch_on_merge': False,\n",
       " 'network_count': 0,\n",
       " 'subscribers_count': 0}"
      ]
     },
     "metadata": {},
     "execution_count": 42
    }
   ],
   "metadata": {}
  },
  {
   "cell_type": "code",
   "execution_count": null,
   "source": [],
   "outputs": [],
   "metadata": {}
  }
 ],
 "metadata": {
  "orig_nbformat": 4,
  "language_info": {
   "name": "python",
   "version": "3.8.8",
   "mimetype": "text/x-python",
   "codemirror_mode": {
    "name": "ipython",
    "version": 3
   },
   "pygments_lexer": "ipython3",
   "nbconvert_exporter": "python",
   "file_extension": ".py"
  },
  "kernelspec": {
   "name": "python3",
   "display_name": "Python 3.8.8 64-bit ('ml': conda)"
  },
  "interpreter": {
   "hash": "a683edd788238e5c64f9fa2e4bdd4387776bc5c6f4f0a84da0685f9a25e421d6"
  }
 },
 "nbformat": 4,
 "nbformat_minor": 2
}